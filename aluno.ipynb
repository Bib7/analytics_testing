{
 "cells": [
  {
   "cell_type": "code",
   "execution_count": 315,
   "metadata": {},
   "outputs": [],
   "source": [
    "import pandas as pd \n",
    "\n",
    "\n",
    "df1 = pd.read_excel(r'C:\\Aluno_Ativo\\ClientesCursos__21_12_2023.xlsx')\n",
    "df2 = pd.read_excel(r'C:\\Aluno_Ativo\\meus-contratos-21-12-2023-_1_.xlsx')\n",
    "\n",
    "df = pd.merge(df1, df2, left_on='E-Mail', right_on='Cliente / E-mail')\n",
    "df.to_excel('Docs_Cont.xlsx')"
   ]
  },
  {
   "cell_type": "code",
   "execution_count": null,
   "metadata": {},
   "outputs": [],
   "source": [
    "def Aluno_Ativo(df):\n",
    "    df = df.query(\"Status in ['Em dia', 'Finalizado']\")\n",
    "    df = df.loc[df['Provas Respondidas'] > 0]\n",
    "    df['cadastro'] = df['Cliente / E-mail'].equals(df['E-Mail'])\n",
    "    \n",
    "    return df \n",
    "\n",
    "Aluno_Ativo(df).to_excel(\"Aluno_At.xlsx\")\n",
    "print(Aluno_Ativo(df))\n",
    "    \n",
    "\n",
    "\n",
    "    \n",
    "\n",
    "\n",
    "\n",
    "\n",
    "   "
   ]
  },
  {
   "cell_type": "code",
   "execution_count": 317,
   "metadata": {},
   "outputs": [],
   "source": [
    "df['cadastro'] = df['Cliente / E-mail'].equals(df['E-Mail'])\n",
    "\n",
    "    "
   ]
  },
  {
   "cell_type": "markdown",
   "metadata": {},
   "source": [
    "\"CADASTRADO\" = TRUE REALIZADO"
   ]
  },
  {
   "cell_type": "code",
   "execution_count": 318,
   "metadata": {},
   "outputs": [],
   "source": [
    "df = df.query(\"Status in ['Em dia', 'Finalizado']\")\n"
   ]
  },
  {
   "cell_type": "markdown",
   "metadata": {},
   "source": [
    "\"STATUS\" == EM DIA E FINALIZADO"
   ]
  },
  {
   "cell_type": "code",
   "execution_count": 319,
   "metadata": {},
   "outputs": [],
   "source": [
    "df = df.loc[df['Provas Respondidas'] > 0]\n",
    "\n"
   ]
  },
  {
   "cell_type": "markdown",
   "metadata": {},
   "source": [
    "PROVAS REALIZADAS > 0 \n"
   ]
  }
 ],
 "metadata": {
  "kernelspec": {
   "display_name": "Python 3",
   "language": "python",
   "name": "python3"
  },
  "language_info": {
   "codemirror_mode": {
    "name": "ipython",
    "version": 3
   },
   "file_extension": ".py",
   "mimetype": "text/x-python",
   "name": "python",
   "nbconvert_exporter": "python",
   "pygments_lexer": "ipython3",
   "version": "3.12.1"
  }
 },
 "nbformat": 4,
 "nbformat_minor": 2
}
