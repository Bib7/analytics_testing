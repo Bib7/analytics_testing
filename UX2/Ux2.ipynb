{
 "cells": [
  {
   "cell_type": "code",
   "execution_count": 342,
   "metadata": {},
   "outputs": [],
   "source": [
    "import pandas as pd \n",
    "\n",
    "df1 = pd.read_excel(r'C:\\UX2\\Documentos (2).xlsx')\n",
    "df2 = pd.read_excel(r'C:\\UX2\\Notas_UX (1).xlsx')\n",
    "df2 = df2.groupby([\"Aluno\", \"Email\"]).agg({\"Nota\": \"mean\", \"Prova\": \"count\"})\n",
    "df2.reset_index(inplace=True)\n",
    "df3 = pd.read_excel(r'C:\\UX2\\meus-contratos-02-01-2024.xlsx')\n",
    "df4 = pd.read_excel(r'C:\\UX2\\UX2_ofc.xlsx')\n",
    "\n",
    "df = pd.merge(df1, df2, how='inner', left_on='Email', right_on='Email')\n",
    "\n",
    "geral = pd.merge(df4, df3, how='left', left_on='Email', right_on='Cliente / E-mail')\n",
    "\n",
    "\n"
   ]
  },
  {
   "cell_type": "markdown",
   "metadata": {},
   "source": [
    "Leitura planilhas\n"
   ]
  },
  {
   "cell_type": "code",
   "execution_count": 336,
   "metadata": {},
   "outputs": [],
   "source": [
    "def UX2(df):\n",
    "    \n",
    "    df.rename(columns={\"Prova\": \"Qtd. Provas\", \"Nota\": \"Média\",\"Documentação\": \"APTO\"}, inplace=True)\n",
    "    df.drop_duplicates(subset='Email', keep='last', inplace= True)\n",
    "    df['Frequência'] = df['Qtd. Provas'] / 18 * 100\n",
    "    df['Frequência'] = df['Frequência'].round(2)\n",
    "    df.query('APTO == True')\n",
    "    \n",
    "    return df\n",
    "\n",
    "df = UX2(df)\n"
   ]
  },
  {
   "cell_type": "markdown",
   "metadata": {},
   "source": [
    "Função geral "
   ]
  },
  {
   "cell_type": "code",
   "execution_count": null,
   "metadata": {},
   "outputs": [],
   "source": [
    "\n",
    "df.query('APTO == True')\n"
   ]
  },
  {
   "cell_type": "markdown",
   "metadata": {},
   "source": [
    "Frequencia "
   ]
  },
  {
   "cell_type": "markdown",
   "metadata": {},
   "source": [
    "Alunos Aptos"
   ]
  },
  {
   "cell_type": "code",
   "execution_count": null,
   "metadata": {},
   "outputs": [],
   "source": [
    "def Drop(df):\n",
    "    df.drop(['Curso',\n",
    "            'Aluno_y',\n",
    "            'URL 1',\n",
    "            'URL 2',\n",
    "            'URL 3',\n",
    "            'URL 4',\n",
    "            'URL 5',], inplace=True, axis=1)\n",
    "    \n",
    "    return df\n",
    "\n",
    "Drop(df)"
   ]
  },
  {
   "cell_type": "markdown",
   "metadata": {},
   "source": [
    "Excluir Colunas"
   ]
  },
  {
   "cell_type": "code",
   "execution_count": null,
   "metadata": {},
   "outputs": [],
   "source": [
    "geral.drop([ 'Contrato', \n",
    "             'Remove acesso', \n",
    "             'Cobrança vigente',\n",
    "             'Cobranças em aberto/atrasado',\n",
    "             'Cobranças reembolsadas',\n",
    "             'Cobranças pagas',\n",
    "             'Cobranças futuras',\n",
    "             'Total de cobranças',\n",
    "             'Primeira em aberto',\n",
    "             'Valor da cobrança', 'Total futuro',\n",
    "             'Total em aberto/atrasado',\n",
    "             'Total reembolsado',\n",
    "             'Valor adesão',\n",
    "             'Cancelamento em',\n",
    "             'Produto',\t\n",
    "             'Nome produto',\n",
    "             'Forma de pagamento',\n",
    "             'Cliente / Razão-Social',\n",
    "             'Cliente / E-mail',\n",
    "             'Cliente / Fones',\n",
    "             'Cliente / Documento',\n",
    "             'Cliente / Endereço',\n",
    "             'Cliente / Número',\n",
    "             'Cliente / Complemento',\n",
    "             'Cliente / Bairro',\n",
    "             'Cliente / Cidade',\n",
    "             'Cliente / UF',\n",
    "             'SKU',\n",
    "             'Moeda',\n",
    "             'Último pagamento',\n",
    "             'Total da recorrência'], inplace=True, axis=1)\n",
    "\n",
    "geral.columns\n",
    "    "
   ]
  },
  {
   "cell_type": "code",
   "execution_count": 340,
   "metadata": {},
   "outputs": [],
   "source": [
    "def UU(geral):\n",
    "    return geral.query('Status in (\"Em dia\",\"Finalizado\")').loc[(geral[\"APTO\"]) == \"APTO\"]\n",
    "    \n",
    "geral = UU(geral)\n",
    "\n",
    "geral.to_excel('Ux2.xlsx')\n",
    "\n",
    "\n"
   ]
  }
 ],
 "metadata": {
  "kernelspec": {
   "display_name": "Python 3",
   "language": "python",
   "name": "python3"
  },
  "language_info": {
   "codemirror_mode": {
    "name": "ipython",
    "version": 3
   },
   "file_extension": ".py",
   "mimetype": "text/x-python",
   "name": "python",
   "nbconvert_exporter": "python",
   "pygments_lexer": "ipython3",
   "version": "3.12.1"
  }
 },
 "nbformat": 4,
 "nbformat_minor": 2
}
