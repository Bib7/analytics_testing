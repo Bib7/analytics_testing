{
 "cells": [
  {
   "cell_type": "code",
   "execution_count": 119,
   "metadata": {},
   "outputs": [],
   "source": [
    "import pandas as pd \n",
    "\n",
    "df1 = pd.read_excel(r'C:\\Aluno_Apto\\ClientesCursos__27_12_2023.xlsx')\n",
    "df2 = pd.read_excel(r'C:\\Aluno_Apto\\meus-contratos-27-12-2023.xlsx')\n",
    "\n",
    "df = pd.merge( df1, df2, how='inner', left_on='E-Mail', right_on='Cliente / E-mail')\n",
    "df.to_excel('Merge.xlsx')\n"
   ]
  },
  {
   "cell_type": "markdown",
   "metadata": {},
   "source": [
    "Inicialização do programa"
   ]
  },
  {
   "cell_type": "code",
   "execution_count": 122,
   "metadata": {},
   "outputs": [],
   "source": [
    "def Aluno_Apto(df):\n",
    "    df['cadastro'] = df['Cliente / E-mail'].equals(df['E-Mail'])\n",
    "    df = df.query(\"Status in ['Em dia','Finalizado']\").copy()\n",
    "    df = df.loc[df['Provas Respondidas'] == 18].copy()\n",
    "    df = df.loc[df['Documentação'] == True].copy()\n",
    "    \n",
    "    \n",
    "    return df\n",
    "\n",
    "df = Aluno_Apto(df)\n",
    "\n",
    "\n",
    "\n"
   ]
  },
  {
   "cell_type": "markdown",
   "metadata": {},
   "source": [
    "Junção de todas os parametros\n",
    "\n"
   ]
  },
  {
   "cell_type": "code",
   "execution_count": 124,
   "metadata": {},
   "outputs": [],
   "source": [
    "def nova_exportaçao(df): \n",
    "    df.drop(['Contrato_x', \n",
    "             'Observação', \n",
    "             'Contrato_y', \n",
    "             'Remove acesso', \n",
    "             'Cobrança vigente',\n",
    "             'Cobranças em aberto/atrasado',\n",
    "             'Cobranças reembolsadas',\n",
    "             'Cobranças pagas',\n",
    "             'Cobranças futuras',\n",
    "             'Total de cobranças',\n",
    "             'Primeira em aberto',\n",
    "             'Valor da cobrança', 'Total futuro',\n",
    "             'Total em aberto/atrasado',\n",
    "             'Total reembolsado',\n",
    "             'Valor adesão',\n",
    "             'Cancelamento em',\n",
    "             'Produto',\t\n",
    "             'Nome produto',\n",
    "             'Forma de pagamento',\n",
    "             'Cliente / Razão-Social',\n",
    "             'Cliente / E-mail',\n",
    "             'Cliente / Fones',\n",
    "             'Cliente / Documento',\n",
    "             'Cliente / Endereço',\n",
    "             'Cliente / Número',\n",
    "             'Cliente / Complemento',\n",
    "             'Cliente / Bairro',\n",
    "             'Cliente / Cidade',\n",
    "             'Cliente / UF',\n",
    "             'SKU',\n",
    "             'Moeda',\n",
    "             'cadastro'], inplace=True, axis=1)\n",
    "    \n",
    "    return df.to_excel('Al_Ap.xlsx')\n",
    "\n",
    "nova_exportaçao(df) "
   ]
  },
  {
   "cell_type": "markdown",
   "metadata": {},
   "source": [
    "Nova planilha\n"
   ]
  }
 ],
 "metadata": {
  "kernelspec": {
   "display_name": "Python 3",
   "language": "python",
   "name": "python3"
  },
  "language_info": {
   "codemirror_mode": {
    "name": "ipython",
    "version": 3
   },
   "file_extension": ".py",
   "mimetype": "text/x-python",
   "name": "python",
   "nbconvert_exporter": "python",
   "pygments_lexer": "ipython3",
   "version": "3.12.1"
  }
 },
 "nbformat": 4,
 "nbformat_minor": 2
}
