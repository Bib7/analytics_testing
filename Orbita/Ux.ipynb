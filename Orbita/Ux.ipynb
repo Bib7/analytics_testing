{
 "cells": [
  {
   "cell_type": "code",
   "execution_count": 455,
   "metadata": {},
   "outputs": [],
   "source": [
    "import pandas as pd\n",
    "\n",
    "df1 = pd.read_excel(r'C:\\Orbita\\meus-contratos-27-12-2023.xlsx')\n",
    "notas = pd.read_excel(r'C:\\Orbita\\Notas_UX.xlsx')\n",
    "doc = pd.read_excel(r'C:\\Orbita\\Documentos (2).xlsx')\n",
    "\n",
    "df2 = pd.merge( df1, notas, how='inner', left_on='Cliente / E-mail', right_on='Email' )\n",
    "df = pd.merge( df2, doc, how='inner', on='Email' )\n"
   ]
  },
  {
   "cell_type": "code",
   "execution_count": 451,
   "metadata": {},
   "outputs": [],
   "source": [
    "df['Frequência'] = notas_alunos['Qtd. Provas'] / 18 * 100\n",
    "df['Frequência'] = notas_alunos['Frequência'].round(2)\n",
    "df = notas.groupby([\"Aluno\", \"Turma\"]).agg({\"Nota\": \"mean\", \"Prova\": \"count\"})\n"
   ]
  },
  {
   "cell_type": "code",
   "execution_count": null,
   "metadata": {},
   "outputs": [],
   "source": []
  },
  {
   "cell_type": "code",
   "execution_count": 457,
   "metadata": {},
   "outputs": [],
   "source": [
    "def Ux(df):\n",
    "    df = df.sort_values(by=['Início em'], ascending=True)\n",
    "    df.drop_duplicates(subset='Cliente / E-mail', keep='last', inplace= True)\n",
    "    df = df.sort_values(by=['Status'], ascending=False)\n",
    "    df.rename(columns={\"Prova\": \"Qtd. Provas\", \"Nota\": \"Média\"}, inplace=True)\n",
    "    \n",
    "    return df\n",
    "\n",
    "df = Ux(df)\n",
    "\n",
    "\n",
    "    "
   ]
  },
  {
   "cell_type": "code",
   "execution_count": null,
   "metadata": {},
   "outputs": [],
   "source": [
    "def nova_exportaçao(df): \n",
    "    df.drop(['Contrato', \n",
    "             'Remove acesso', \n",
    "             'Cobrança vigente',\n",
    "             'Cobranças em aberto/atrasado',\n",
    "             'Cobranças reembolsadas',\n",
    "             'Cobranças pagas',\n",
    "             'Cobranças futuras',\n",
    "             'Total de cobranças',\n",
    "             'Primeira em aberto',\n",
    "             'Valor da cobrança', 'Total futuro',\n",
    "             'Total em aberto/atrasado',\n",
    "             'Total reembolsado',\n",
    "             'Valor adesão',\n",
    "             'Cancelamento em',\n",
    "             'Produto',\t\n",
    "             'Nome produto',\n",
    "             'Forma de pagamento',\n",
    "             'Cliente / Razão-Social',\n",
    "             'Cliente / E-mail',\n",
    "             'Cliente / Fones',\n",
    "             'Cliente / Documento',\n",
    "             'Cliente / Endereço',\n",
    "             'Cliente / Número',\n",
    "             'Cliente / Complemento',\n",
    "             'Cliente / Bairro',\n",
    "             'Cliente / Cidade',\n",
    "             'Cliente / UF',\n",
    "             'Curso_x',\n",
    "             'Aluno_x',\n",
    "             'Turma',\n",
    "             'Módulo',\n",
    "             'SKU',\n",
    "             'Moeda'], inplace=True, axis=1)\n",
    "    \n",
    "    return df.to_excel('sla.xlsx')\n",
    "\n",
    "nova_exportaçao(df)"
   ]
  }
 ],
 "metadata": {
  "kernelspec": {
   "display_name": "Python 3",
   "language": "python",
   "name": "python3"
  },
  "language_info": {
   "codemirror_mode": {
    "name": "ipython",
    "version": 3
   },
   "file_extension": ".py",
   "mimetype": "text/x-python",
   "name": "python",
   "nbconvert_exporter": "python",
   "pygments_lexer": "ipython3",
   "version": "3.12.1"
  }
 },
 "nbformat": 4,
 "nbformat_minor": 2
}
